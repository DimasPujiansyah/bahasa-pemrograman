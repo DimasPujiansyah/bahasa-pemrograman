{
 "cells": [
  {
   "cell_type": "code",
   "execution_count": null,
   "metadata": {},
   "outputs": [],
   "source": [
    "# ENERAL SET\n",
    "\n",
    "# use curyly brace\n",
    "studen_set = {'Joni','Lono','Ayu','Siti'}\n",
    "print(studen_set)"
   ]
  },
  {
   "cell_type": "code",
   "execution_count": null,
   "metadata": {},
   "outputs": [],
   "source": [
    "set_mix={'main', 'animal', 5, True, ('A','B')}\n",
    "print(set_mix)"
   ]
  }
 ],
 "metadata": {
  "language_info": {
   "name": "python"
  }
 },
 "nbformat": 4,
 "nbformat_minor": 2
}
